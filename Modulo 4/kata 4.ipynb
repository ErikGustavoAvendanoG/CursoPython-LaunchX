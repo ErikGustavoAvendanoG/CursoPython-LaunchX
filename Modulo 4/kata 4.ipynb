{
 "cells": [
  {
   "cell_type": "markdown",
   "metadata": {},
   "source": [
    "# Kata 4\n",
    "## Ejercicio 1: Transformar cadenas\n"
   ]
  },
  {
   "cell_type": "code",
   "execution_count": 2,
   "metadata": {},
   "outputs": [],
   "source": [
    "text = \"\"\"Interesting facts about the Moon. The Moon is Earth's only satellite. There are several interesting facts about the Moon and how it affects life here on Earth. \n",
    "On average, the Moon moves 4cm away from the Earth every year. This yearly drift is not significant enough to cause immediate effects on Earth. The highest daylight temperature of the Moon is 127 C.\"\"\""
   ]
  },
  {
   "cell_type": "markdown",
   "metadata": {},
   "source": [
    "### Primero, divide el texto en cada oración para trabajar con su contenido:"
   ]
  },
  {
   "cell_type": "code",
   "execution_count": 3,
   "metadata": {},
   "outputs": [
    {
     "name": "stdout",
     "output_type": "stream",
     "text": [
      "['Interesting facts about the Moon', \" The Moon is Earth's only satellite\", ' There are several interesting facts about the Moon and how it affects life here on Earth', ' \\nOn average, the Moon moves 4cm away from the Earth every year', ' This yearly drift is not significant enough to cause immediate effects on Earth', ' The highest daylight temperature of the Moon is 127 C', '']\n"
     ]
    }
   ],
   "source": [
    "print(text.split('.'))"
   ]
  },
  {
   "cell_type": "markdown",
   "metadata": {},
   "source": [
    "### Ahora, define algunas palabras clave para búsqueda que te ayudarán a determinar si una oración contiene un hecho."
   ]
  },
  {
   "cell_type": "code",
   "execution_count": 3,
   "metadata": {},
   "outputs": [
    {
     "name": "stdout",
     "output_type": "stream",
     "text": [
      "Hecho \"average\" encontrado en oracion...\" \n",
      "On average, the Moon moves 4cm away from the Earth every year\",en la posicion 5\n",
      "Hecho \"temperature\" encontrado en oracion...\" The highest daylight temperature of the Moon is 127 C\",en la posicion 22\n"
     ]
    }
   ],
   "source": [
    "# Define las palabras pista: average, temperature y distance suenan bien\n",
    "text = \"\"\"Interesting facts about the Moon. The Moon is Earth's only satellite. There are several interesting facts about the Moon and how it affects life here on Earth. \n",
    "On average, the Moon moves 4cm away from the Earth every year. This yearly drift is not significant enough to cause immediate effects on Earth. The highest daylight temperature of the Moon is 127 C.\"\"\"\n",
    "pista1='average'\n",
    "pista2='temperature'\n",
    "pista3='distance'\n",
    "encontrado=0\n",
    "for item in text.split('.'):\n",
    "    if(pista1 in item):\n",
    "        print(f'Hecho \"{pista1}\" encontrado en oracion...\"{item}\",en la posicion {item.find(pista1)}')\n",
    "    elif(pista2 in item):\n",
    "        print(f'Hecho \"{pista2}\" encontrado en oracion...\"{item}\",en la posicion {item.find(pista2)}')\n",
    "    elif(pista3 in item):\n",
    "        print(f'Hecho \"{pista3}\" encontrado en oracion...\"{item}\",en la posicion {item.find(pista3)}')\n"
   ]
  },
  {
   "cell_type": "code",
   "execution_count": 4,
   "metadata": {},
   "outputs": [
    {
     "name": "stdout",
     "output_type": "stream",
     "text": [
      "Hecho \"average\" encontrado en oracion...\" \n",
      "On average, the Moon moves 4cm away from the Earth every year\",en la posicion 5\n",
      "Hecho \"temperature\" encontrado en oracion...\" The highest daylight temperature of the Moon is 127 Celsius\",en la posicion 22\n"
     ]
    }
   ],
   "source": [
    "# Crea un bucle para imprimir solo datos sobre la Luna que estén relacionados con las palabras clave definidas anteriormente:\n",
    "text = \"\"\"Interesting facts about the Moon. The Moon is Earth's only satellite. There are several interesting facts about the Moon and how it affects life here on Earth. \n",
    "On average, the Moon moves 4cm away from the Earth every year. This yearly drift is not significant enough to cause immediate effects on Earth. The highest daylight temperature of the Moon is 127 C.\"\"\"\n",
    "pista1='average'\n",
    "pista2='temperature'\n",
    "pista3='distance'\n",
    "encontrado=0\n",
    "for item in text.split('.'):\n",
    "    if(pista1 in item and 'Moon' in item):\n",
    "        print(f'Hecho \"{pista1}\" encontrado en oracion...\"{item.replace(\"C\",\"Celsius\")}\",en la posicion {item.find(pista1)}')\n",
    "    elif(pista2 in item):\n",
    "        print(f'Hecho \"{pista2}\" encontrado en oracion...\"{item.replace(\"C\",\"Celsius\")}\",en la posicion {item.find(pista2)}')\n",
    "    elif(pista3 in item):\n",
    "        print(f'Hecho \"{pista3}\" encontrado en oracion...\"{item.replace(\"C\",\"Celsius\")}\",en la posicion {item.find(pista3)}')"
   ]
  },
  {
   "cell_type": "markdown",
   "metadata": {},
   "source": [
    "# Ejercicio 2: Formateando Cadenas"
   ]
  },
  {
   "cell_type": "code",
   "execution_count": 13,
   "metadata": {},
   "outputs": [
    {
     "name": "stdout",
     "output_type": "stream",
     "text": [
      "Gravity Facts about Marte m/s2\n",
      "-------------------------------------------------------------------------------\n",
      "Planet Name: Marte\n",
      "Gravity on Ganimedes: 0.00143\n",
      "\n",
      "\n",
      "Gravity Facts about Marte m/s2\n",
      "-------------------------------------------------------------------------------\n",
      "Planet Name: Marte\n",
      "Gravity on Ganimedes: 0.00143\n",
      "\n",
      "\n"
     ]
    }
   ],
   "source": [
    "    \"\"\"ejemplo de como debe quedar el texto\n",
    "    \n",
    "Gravity Facts about Ganymede\n",
    "-------------------------------------------------------------------------------\n",
    "Planet Name: Mars\n",
    "Gravity on Ganymede: 1.4300000000000002 m/s2\n",
    "    \n",
    "    \"\"\"\n",
    "# Datos con los que vas a trabajar\n",
    "planeta = \"Marte\"\n",
    "gravedad = 0.00143 # in kms\n",
    "nombre = \"Ganimedes\"\n",
    "\n",
    "titulo=f'Gravity Facts about {planeta}'\n",
    "\n",
    "#plantilla-----\n",
    "cuerpo=f\"\"\"-------------------------------------------------------------------------------\n",
    "Planet Name: {planeta}\n",
    "Gravity on {nombre}: {gravedad} m/s2\n",
    "\n",
    "\"\"\"\n",
    "\n",
    "plantilla=f'{titulo}\\n{cuerpo}'\n",
    "\n",
    "print(titulo+\"\\n\"+cuerpo)\n",
    "print(plantilla)"
   ]
  },
  {
   "cell_type": "code",
   "execution_count": 15,
   "metadata": {},
   "outputs": [
    {
     "name": "stdout",
     "output_type": "stream",
     "text": [
      "Gravity Facts about Marte m/s2\n",
      "-------------------------------------------------------------------------------\n",
      "Planet Name: Marte\n",
      "Gravity on Ganimedes: 0.00143\n",
      "\n",
      "\n"
     ]
    }
   ],
   "source": [
    "# Datos nuevos para alimentar plantilla\n",
    "planeta = 'Marte '\n",
    "gravedad  = 0.00143\n",
    "nombre = 'Ganímedes'\n",
    "print(plantilla)\n"
   ]
  },
  {
   "cell_type": "code",
   "execution_count": 5,
   "metadata": {},
   "outputs": [
    {
     "name": "stdout",
     "output_type": "stream",
     "text": [
      "Gravity Facts about Marte\n",
      "\n",
      "-------------------------------------------------------------------------------\n",
      "Planet Name: Marte\n",
      "Gravity on Ganeviser: 0.00134 m/s2\n",
      "\n",
      "\n"
     ]
    }
   ],
   "source": [
    "plantilla=\"\"\"Gravity Facts about {planeta}\\n\n",
    "-------------------------------------------------------------------------------\n",
    "Planet Name: {planeta}\n",
    "Gravity on {nombre}: {gravedad} m/s2\n",
    "\n",
    "\"\"\"\n",
    "planeta='Tierra'\n",
    "gravedad=0.00134\n",
    "nombre='Luna'\n",
    "print(plantilla.format(planeta=planeta,gravedad=gravedad,nombre=nombre))\n"
   ]
  },
  {
   "cell_type": "code",
   "execution_count": null,
   "metadata": {},
   "outputs": [],
   "source": []
  }
 ],
 "metadata": {
  "interpreter": {
   "hash": "3bb03df91ec1981933db38e9cd509750fbcc8736096f2f96108c21544a6fd7c7"
  },
  "kernelspec": {
   "display_name": "Python 3.10.2 64-bit",
   "language": "python",
   "name": "python3"
  },
  "language_info": {
   "codemirror_mode": {
    "name": "ipython",
    "version": 3
   },
   "file_extension": ".py",
   "mimetype": "text/x-python",
   "name": "python",
   "nbconvert_exporter": "python",
   "pygments_lexer": "ipython3",
   "version": "3.10.2"
  },
  "orig_nbformat": 4
 },
 "nbformat": 4,
 "nbformat_minor": 2
}

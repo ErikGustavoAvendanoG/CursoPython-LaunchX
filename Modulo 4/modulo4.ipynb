{
 "cells": [
  {
   "cell_type": "markdown",
   "metadata": {},
   "source": [
    "# Cadenas en Python\n",
    "## Inmutabilidad de las cadenas\n"
   ]
  },
  {
   "cell_type": "code",
   "execution_count": 6,
   "metadata": {},
   "outputs": [
    {
     "name": "stdout",
     "output_type": "stream",
     "text": [
      "-----The moon has no atmosphere.No sound can be heard on the Moon.\n"
     ]
    }
   ],
   "source": [
    "fact = 'The moon has no atmosphere.'\n",
    "fact + 'No sound can be heard on the moon'\n",
    "two_facts = fact + 'No sound can be heard on the Moon.'\n",
    "print(\"-----\"+two_facts)"
   ]
  },
  {
   "cell_type": "code",
   "execution_count": 7,
   "metadata": {},
   "outputs": [
    {
     "name": "stdout",
     "output_type": "stream",
     "text": [
      "Facts about the Moon:\n",
      " There is no atmosphere.\n",
      " There is no sound.\n"
     ]
    }
   ],
   "source": [
    "multiline = \"\"\"Facts about the Moon:\n",
    "...  There is no atmosphere.\n",
    "...  There is no sound.\"\"\"\n",
    "print(multiline)"
   ]
  },
  {
   "cell_type": "code",
   "execution_count": 9,
   "metadata": {},
   "outputs": [
    {
     "name": "stdout",
     "output_type": "stream",
     "text": [
      "temperatures and facts about the moon\n",
      "Temperatures And Facts About The Moon\n"
     ]
    }
   ],
   "source": [
    "# metodos en cadenas\n",
    "# .title()\n",
    "heading = 'temperatures and facts about the moon'\n",
    "print(heading)\n",
    "print(heading.title())"
   ]
  },
  {
   "cell_type": "code",
   "execution_count": 13,
   "metadata": {},
   "outputs": [
    {
     "name": "stdout",
     "output_type": "stream",
     "text": [
      "Daylight: 260 F\n",
      "...  Nighttime: -280 F\n"
     ]
    },
    {
     "data": {
      "text/plain": [
       "['Dayl', 'ght: 260 F\\n...  N', 'ghtt', 'me: -280 F']"
      ]
     },
     "execution_count": 13,
     "metadata": {},
     "output_type": "execute_result"
    }
   ],
   "source": [
    "# .split()\n",
    "temperatures = '''Daylight: 260 F\n",
    "...  Nighttime: -280 F'''\n",
    "print(temperatures)\n",
    "temperatures.split()\n",
    "temperatures.split('i')"
   ]
  },
  {
   "cell_type": "code",
   "execution_count": 24,
   "metadata": {},
   "outputs": [
    {
     "name": "stdout",
     "output_type": "stream",
     "text": [
      "False\n",
      "True\n",
      "-1\n",
      "64\n",
      "0\n",
      "1\n"
     ]
    }
   ],
   "source": [
    "#Buscar una cadena\n",
    "print(('Moon' in 'This text will describe facts and challenges with space travel'))\n",
    "print(('Moon' in 'This text will describe facts about the Moon'))\n",
    "temperatures = \"\"\"Saturn has a daytime temperature of -170 degrees Celsius, while Mars has -28 Celsius.\"\"\"\n",
    "\n",
    "# .find() busca la la palabra que tiene de argumento y devuelve la posicion donde fue encontrada, en caso contrario devuelve 1\n",
    "\n",
    "print((temperatures.find('Moon'))) #la salida es -1 por que fue falso, no se encontro la subcadena en la variable\n",
    "print((temperatures.find('Mars')))\n",
    "\n",
    "# metodo .count() devuelve el numero de veces que fue encontrada la cadena que tiene de argumento\n",
    "print((temperatures.count('mars')))\n",
    "print((temperatures.count('Mars')))"
   ]
  },
  {
   "cell_type": "code",
   "execution_count": 25,
   "metadata": {},
   "outputs": [
    {
     "name": "stdout",
     "output_type": "stream",
     "text": [
      "saturn has a daytime temperature of -170 degrees celsius, while mars has -28 celsius.\n",
      "SATURN HAS A DAYTIME TEMPERATURE OF -170 DEGREES CELSIUS, WHILE MARS HAS -28 CELSIUS.\n"
     ]
    }
   ],
   "source": [
    "# metodo .lower() convierte cada caracter en minuscula\n",
    "# metodo .upper() convierte cada caracter en mayuscula\n",
    "temperatures = \"\"\"Saturn has a daytime temperature of -170 degrees Celsius, while Mars has -28 Celsius.\"\"\"\n",
    "print(temperatures.lower())\n",
    "print(temperatures.upper())\n"
   ]
  },
  {
   "cell_type": "code",
   "execution_count": 26,
   "metadata": {},
   "outputs": [
    {
     "name": "stdout",
     "output_type": "stream",
     "text": [
      "['Mars Average Temperature', ' -60 C']\n"
     ]
    }
   ],
   "source": [
    "temperatures = 'Mars Average Temperature: -60 C'\n",
    "parts = temperatures.split(':')\n",
    "print(parts)"
   ]
  },
  {
   "cell_type": "code",
   "execution_count": 28,
   "metadata": {},
   "outputs": [
    {
     "name": "stdout",
     "output_type": "stream",
     "text": [
      "30\n",
      "This temperature is in Celsius\n"
     ]
    }
   ],
   "source": [
    "# metodo .isnumeric()  comprueba si algun dato es numerico\n",
    "# metodo isdecimal() comprueba si algun dato es decimal\n",
    "# nota el dato (-70) isnumeric() no lo identificaria como numerico debido al guion\n",
    "# para esto podriamos utilizar el metodo .startswith() como parametro recibiria '-' para saber si empieza con ese caracter\n",
    "mars_temperature = 'The highest temperature on Mars is about 30 C'\n",
    "for item in mars_temperature.split():\n",
    "    if item.isnumeric():\n",
    "        print(item)\n",
    "        \n",
    "'-60'.startswith('-')\n",
    "# Del mismo modo, el método .endswith() ayuda a verificar el último carácter de una cadena:\n",
    "if \"30 C\".endswith(\"C\"):\n",
    "    print(\"This temperature is in Celsius\")"
   ]
  },
  {
   "cell_type": "code",
   "execution_count": 30,
   "metadata": {},
   "outputs": [
    {
     "name": "stdout",
     "output_type": "stream",
     "text": [
      "Mars has a daytime temperature of -170 degrees Celsius, while Mars has -28 Celsius.\n",
      "Saturn has a daytime temperature of -170 degrees Celsius, while Mars has -28 Celsius.\n"
     ]
    }
   ],
   "source": [
    "# Transformar texto\n",
    "# metodo .replace() para buscar y remplazar un caracter o una cadena\n",
    "cadena = 'Saturn has a daytime temperature of -170 degrees Celsius, while Mars has -28 Celsius.'\n",
    "print(cadena.replace('Saturn', 'Mars'))\n",
    "print(cadena)  # Las cadenas son inmutables"
   ]
  },
  {
   "cell_type": "code",
   "execution_count": 31,
   "metadata": {},
   "outputs": [
    {
     "name": "stdout",
     "output_type": "stream",
     "text": [
      "On the Moon, you would weigh about 1/6 of your weight on Earth\n"
     ]
    }
   ],
   "source": [
    "mass_percentage = '1/6'\n",
    "print('On the Moon, you would weigh about %s of your weight on Earth' % mass_percentage)"
   ]
  },
  {
   "cell_type": "code",
   "execution_count": 32,
   "metadata": {},
   "outputs": [
    {
     "name": "stdout",
     "output_type": "stream",
     "text": [
      "You are lighter on the Moon, because on the Moon \n",
      "... you would weigh about 1/6 of your weight on Earth\n"
     ]
    }
   ],
   "source": [
    "# metodo .format()\n",
    "print(\"\"\"You are lighter on the {0}, because on the {0} \n",
    "... you would weigh about {1} of your weight on Earth\"\"\".format(\"Moon\", mass_percentage))"
   ]
  },
  {
   "cell_type": "code",
   "execution_count": 33,
   "metadata": {},
   "outputs": [
    {
     "name": "stdout",
     "output_type": "stream",
     "text": [
      "You are lighter on the Moon, because on the Moon \n",
      "you would weigh about 1/6 of your weight on Earth\n"
     ]
    }
   ],
   "source": [
    "print(\"\"\"You are lighter on the {moon}, because on the {moon} \n",
    "... you would weigh about {mass} of your weight on Earth\"\"\".format(moon=\"Moon\", mass=mass_percentage))"
   ]
  },
  {
   "cell_type": "code",
   "execution_count": 34,
   "metadata": {},
   "outputs": [
    {
     "name": "stdout",
     "output_type": "stream",
     "text": [
      "On the Moon, you would weigh about 1/6 of your weight on Earth\n"
     ]
    }
   ],
   "source": [
    "# f-Strings\n",
    "print(f'On the Moon, you would weigh about {mass_percentage} of your weight on Earth')"
   ]
  },
  {
   "cell_type": "code",
   "execution_count": null,
   "metadata": {},
   "outputs": [],
   "source": []
  }
 ],
 "metadata": {
  "interpreter": {
   "hash": "3bb03df91ec1981933db38e9cd509750fbcc8736096f2f96108c21544a6fd7c7"
  },
  "kernelspec": {
   "display_name": "Python 3.10.2 64-bit",
   "language": "python",
   "name": "python3"
  },
  "language_info": {
   "codemirror_mode": {
    "name": "ipython",
    "version": 3
   },
   "file_extension": ".py",
   "mimetype": "text/x-python",
   "name": "python",
   "nbconvert_exporter": "python",
   "pygments_lexer": "ipython3",
   "version": "3.10.2"
  },
  "orig_nbformat": 4
 },
 "nbformat": 4,
 "nbformat_minor": 2
}

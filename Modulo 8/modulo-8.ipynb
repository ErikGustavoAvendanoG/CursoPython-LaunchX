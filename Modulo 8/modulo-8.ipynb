{
 "cells": [
  {
   "cell_type": "markdown",
   "metadata": {},
   "source": [
    "# Modulo 8\n",
    "### Administrar datos con diccionarios\n"
   ]
  },
  {
   "cell_type": "code",
   "execution_count": 3,
   "metadata": {},
   "outputs": [
    {
     "name": "stdout",
     "output_type": "stream",
     "text": [
      "Earth\n",
      "{'name': 'Earth', 'moons': 1}\n",
      "Earth\n"
     ]
    }
   ],
   "source": [
    "# creacion de un diccionario\n",
    "planet = {\n",
    "    'name': 'Earth',\n",
    "    'moons': 1\n",
    "}\n",
    "print(planet.get('name'))\n",
    "print(planet)\n",
    "print(planet['name'])\n",
    "\n",
    "# Muestra Earth"
   ]
  },
  {
   "cell_type": "code",
   "execution_count": 7,
   "metadata": {},
   "outputs": [
    {
     "ename": "KeyError",
     "evalue": "'wibble'",
     "output_type": "error",
     "traceback": [
      "\u001b[1;31m---------------------------------------------------------------------------\u001b[0m",
      "\u001b[1;31mKeyError\u001b[0m                                  Traceback (most recent call last)",
      "\u001b[1;32mc:\\Users\\Administrador\\Documents\\LaunchX\\Modulo 8\\modulo-8.ipynb Cell 3'\u001b[0m in \u001b[0;36m<module>\u001b[1;34m\u001b[0m\n\u001b[0;32m      <a href='vscode-notebook-cell:/c%3A/Users/Administrador/Documents/LaunchX/Modulo%208/modulo-8.ipynb#ch0000005?line=0'>1</a>\u001b[0m \u001b[39m#wibble = planet.get('wibble') # Regresa None\u001b[39;00m\n\u001b[1;32m----> <a href='vscode-notebook-cell:/c%3A/Users/Administrador/Documents/LaunchX/Modulo%208/modulo-8.ipynb#ch0000005?line=1'>2</a>\u001b[0m wibble \u001b[39m=\u001b[39m planet[\u001b[39m'\u001b[39;49m\u001b[39mwibble\u001b[39;49m\u001b[39m'\u001b[39;49m] \u001b[39m# Arroja un KeyError\u001b[39;00m\n\u001b[0;32m      <a href='vscode-notebook-cell:/c%3A/Users/Administrador/Documents/LaunchX/Modulo%208/modulo-8.ipynb#ch0000005?line=2'>3</a>\u001b[0m \u001b[39mprint\u001b[39m(wibble)\n",
      "\u001b[1;31mKeyError\u001b[0m: 'wibble'"
     ]
    }
   ],
   "source": [
    "#wibble = planet.get('wibble') # Regresa None\n",
    "wibble = planet['wibble'] # Arroja un KeyError\n",
    "print(wibble)"
   ]
  },
  {
   "cell_type": "code",
   "execution_count": 9,
   "metadata": {},
   "outputs": [
    {
     "name": "stdout",
     "output_type": "stream",
     "text": [
      "{'name': 'Makemake', 'moons': 1}\n"
     ]
    }
   ],
   "source": [
    "# modificacion de valores de un diccionario\n",
    "planet.update({'name':'Makemake'})\n",
    "print(planet)"
   ]
  },
  {
   "cell_type": "code",
   "execution_count": 13,
   "metadata": {},
   "outputs": [
    {
     "name": "stdout",
     "output_type": "stream",
     "text": [
      "{'name': 'Jupiter', 'moons': 79}\n",
      "{'name': 'Jupiter Notebook', 'moons': 790}\n"
     ]
    }
   ],
   "source": [
    "# Usando update\n",
    "planet.update({\n",
    "    'name': 'Jupiter',\n",
    "    'moons': 79\n",
    "})\n",
    "print(planet)\n",
    "\n",
    "# Usando corchetes\n",
    "planet['name'] = 'Jupiter Notebook'\n",
    "planet['moons'] = 790\n",
    "print(planet)"
   ]
  },
  {
   "cell_type": "code",
   "execution_count": 16,
   "metadata": {},
   "outputs": [
    {
     "name": "stdout",
     "output_type": "stream",
     "text": [
      "{'name': 'Jupiter Notebook', 'moons': 790, 'orbita period': 4333}\n",
      "{'name': 'Jupiter Notebook', 'moons': 790}\n"
     ]
    }
   ],
   "source": [
    "# Adicion y eliminacion de claves\n",
    "planet['orbita period']=4333\n",
    "print(planet)\n",
    "planet.pop('orbita period')\n",
    "print(planet)"
   ]
  },
  {
   "cell_type": "code",
   "execution_count": 24,
   "metadata": {},
   "outputs": [
    {
     "name": "stdout",
     "output_type": "stream",
     "text": [
      "{'name': 'Jupiter Notebook', 'moons': 790, 'diameter(km)': {'polar': 133709, 'equatorial': 142984}}\n"
     ]
    }
   ],
   "source": [
    "# tipos de data completos\n",
    "# nuevo diccionario\n",
    "    #diameter(km)={\n",
    "    #   'polar'=133709,\n",
    "    #   'equatorial'=142984\n",
    "    #\n",
    "    #y este lo agregamos como elemento del diccioanrio 'planet'\n",
    "\n",
    "planet['diameter(km)']={\n",
    "    'polar':133709,\n",
    "    'equatorial':142984\n",
    "    }\n",
    "print(planet)\n"
   ]
  },
  {
   "cell_type": "code",
   "execution_count": 27,
   "metadata": {},
   "outputs": [
    {
     "name": "stdout",
     "output_type": "stream",
     "text": [
      "Jupiter Notebook polar diameter is 133709\n"
     ]
    }
   ],
   "source": [
    "print(f'{planet[\"name\"]} polar diameter is {planet[\"diameter(km)\"][\"polar\"]}')"
   ]
  },
  {
   "cell_type": "markdown",
   "metadata": {},
   "source": [
    "#"
   ]
  },
  {
   "cell_type": "code",
   "execution_count": 29,
   "metadata": {},
   "outputs": [
    {
     "name": "stdout",
     "output_type": "stream",
     "text": [
      "october : 3.5 cm\n",
      "november : 4.2 cm\n",
      "december : 2.1 cm\n",
      "name : Jupiter Notebook\n",
      "moons : 790\n",
      "diameter(km) : {'polar': 133709, 'equatorial': 142984}\n"
     ]
    }
   ],
   "source": [
    "# programacion dinamica con diccionarios\n",
    "# keys()\n",
    "rainfall = {\n",
    "    'october': 3.5,\n",
    "    'november': 4.2,\n",
    "    'december': 2.1\n",
    "}\n",
    "for key in rainfall.keys():\n",
    "    print(f'{key} : {rainfall[key]} cm')\n",
    "    \n",
    "for item in planet.keys():\n",
    "    print(f'{item} : {planet[item]}')"
   ]
  },
  {
   "cell_type": "code",
   "execution_count": 33,
   "metadata": {},
   "outputs": [
    {
     "name": "stdout",
     "output_type": "stream",
     "text": [
      "{'october': 3.5, 'november': 4.2, 'december': 5.1, 'junuary': 1}\n"
     ]
    }
   ],
   "source": [
    "# determinando la existencia de una clave en el diccionario\n",
    "if('junuary' in rainfall):\n",
    "    rainfall['junuary']=rainfall['junuary']+1\n",
    "else:\n",
    "    rainfall['junuary']=1\n",
    "print(rainfall)"
   ]
  },
  {
   "cell_type": "code",
   "execution_count": 34,
   "metadata": {},
   "outputs": [
    {
     "name": "stdout",
     "output_type": "stream",
     "text": [
      "El total de cm3 por precipitaciones fue 13.8 en los ultimos meses\n"
     ]
    }
   ],
   "source": [
    "# recuperar todos los valores de un diccionario\n",
    "# keys() values()\n",
    "total_rainfall=0\n",
    "for value in rainfall.values():\n",
    "    total_rainfall=total_rainfall+value\n",
    "\n",
    "print(f'El total de cm3 por precipitaciones fue {total_rainfall} en los ultimos meses')"
   ]
  },
  {
   "cell_type": "code",
   "execution_count": null,
   "metadata": {},
   "outputs": [],
   "source": []
  }
 ],
 "metadata": {
  "interpreter": {
   "hash": "3bb03df91ec1981933db38e9cd509750fbcc8736096f2f96108c21544a6fd7c7"
  },
  "kernelspec": {
   "display_name": "Python 3.10.2 64-bit",
   "language": "python",
   "name": "python3"
  },
  "language_info": {
   "codemirror_mode": {
    "name": "ipython",
    "version": 3
   },
   "file_extension": ".py",
   "mimetype": "text/x-python",
   "name": "python",
   "nbconvert_exporter": "python",
   "pygments_lexer": "ipython3",
   "version": "3.10.2"
  },
  "orig_nbformat": 4
 },
 "nbformat": 4,
 "nbformat_minor": 2
}

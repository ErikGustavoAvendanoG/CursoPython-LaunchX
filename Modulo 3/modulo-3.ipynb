{
 "cells": [
  {
   "cell_type": "markdown",
   "metadata": {},
   "source": [
    "# Expresiones de prueba\n",
    "Instruccion if(condicion)\n",
    "se evalua la condicion, si esta es verdadera se ejecuta el codigo que esta a continuacion y que esta identado\n"
   ]
  },
  {
   "cell_type": "code",
   "execution_count": 2,
   "metadata": {},
   "outputs": [],
   "source": [
    "#Tip de practica\n",
    "\"\"\"Si b es mayor se imprime valor de b\n",
    "\"\"\"\n",
    "a =97\n",
    "b =55\n",
    "#test expression / expresion de prueba\n",
    "if (a<b):\n",
    "    #statement to be run / instruccion a ejecutar\n",
    "    print(b)\n"
   ]
  },
  {
   "cell_type": "code",
   "execution_count": 3,
   "metadata": {},
   "outputs": [
    {
     "name": "stdout",
     "output_type": "stream",
     "text": [
      "93\n"
     ]
    }
   ],
   "source": [
    "# Aplica el tip de practica 1\n",
    "a = 93\n",
    "b = 27\n",
    "if(a>=b):\n",
    "    print(a)"
   ]
  },
  {
   "cell_type": "code",
   "execution_count": 5,
   "metadata": {},
   "outputs": [
    {
     "name": "stdout",
     "output_type": "stream",
     "text": [
      "44\n"
     ]
    }
   ],
   "source": [
    "# Tips de practica 1 y 2\n",
    "a = 24 \n",
    "b = 44\n",
    "if(a<=0):\n",
    "    print(a)\n",
    "print(b)"
   ]
  },
  {
   "cell_type": "code",
   "execution_count": 7,
   "metadata": {},
   "outputs": [
    {
     "name": "stdout",
     "output_type": "stream",
     "text": [
      "127\n"
     ]
    }
   ],
   "source": [
    "# Trabajando con else\n",
    "a = 93\n",
    "b = 127\n",
    "if(a>=b):\n",
    "    print(a)\n",
    "else:\n",
    "    print(b)"
   ]
  },
  {
   "cell_type": "code",
   "execution_count": 8,
   "metadata": {},
   "outputs": [
    {
     "name": "stdout",
     "output_type": "stream",
     "text": [
      "a es mayor o igual que b\n"
     ]
    }
   ],
   "source": [
    "# Trabajando con elif\n",
    "a = 93\n",
    "b = 27\n",
    "if(a>=b):\n",
    "    print(\"a es mayor o igual que b\")\n",
    "elif(a==b):\n",
    "    print(\"a es igual que b\")\n",
    "    "
   ]
  },
  {
   "cell_type": "code",
   "execution_count": 9,
   "metadata": {},
   "outputs": [
    {
     "name": "stdout",
     "output_type": "stream",
     "text": [
      "a es mayor que b\n"
     ]
    }
   ],
   "source": [
    "# Combinar declaraciones if, else, elif\n",
    "a = 93\n",
    "b = 27\n",
    "if(a>b):\n",
    "    print(\"a es mayor que b\")\n",
    "elif (a<b):\n",
    "    print(\"b es mayor que a\")\n",
    "else:\n",
    "    print(\"a es igual que b\")"
   ]
  },
  {
   "cell_type": "code",
   "execution_count": 10,
   "metadata": {},
   "outputs": [
    {
     "name": "stdout",
     "output_type": "stream",
     "text": [
      "a es menor que b\n"
     ]
    }
   ],
   "source": [
    "# Trabajando con logica condicional anidada\n",
    "a = 16\n",
    "b = 25\n",
    "c = 27\n",
    "if(a>b):\n",
    "    if(b>c):\n",
    "        print(\"a es mayor que b y b es mayor que c\")\n",
    "    else:\n",
    "        print(\"a es mayor que b y menor que c\")\n",
    "elif(a==b):\n",
    "    print(\"a es igual que b\")\n",
    "else:\n",
    "    print(\"a es menor que b\")"
   ]
  },
  {
   "cell_type": "code",
   "execution_count": 12,
   "metadata": {},
   "outputs": [
    {
     "name": "stdout",
     "output_type": "stream",
     "text": [
      "57\n"
     ]
    }
   ],
   "source": [
    "# El operador or\n",
    "a = 23\n",
    "b = 34\n",
    "if(a ==24 or b== 34):\n",
    "    print(a+b)\n",
    "# Operador and\n",
    "a = 23\n",
    "b = 34\n",
    "if(a ==24 and b== 34):\n",
    "    print(a+b)"
   ]
  },
  {
   "cell_type": "code",
   "execution_count": null,
   "metadata": {},
   "outputs": [],
   "source": []
  }
 ],
 "metadata": {
  "interpreter": {
   "hash": "3bb03df91ec1981933db38e9cd509750fbcc8736096f2f96108c21544a6fd7c7"
  },
  "kernelspec": {
   "display_name": "Python 3.10.2 64-bit",
   "language": "python",
   "name": "python3"
  },
  "language_info": {
   "codemirror_mode": {
    "name": "ipython",
    "version": 3
   },
   "file_extension": ".py",
   "mimetype": "text/x-python",
   "name": "python",
   "nbconvert_exporter": "python",
   "pygments_lexer": "ipython3",
   "version": "3.10.2"
  },
  "orig_nbformat": 4
 },
 "nbformat": 4,
 "nbformat_minor": 2
}

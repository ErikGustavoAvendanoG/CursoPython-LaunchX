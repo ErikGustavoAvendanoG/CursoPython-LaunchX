{
 "cells": [
  {
   "cell_type": "code",
   "execution_count": 2,
   "metadata": {},
   "outputs": [
    {
     "name": "stdout",
     "output_type": "stream",
     "text": [
      "Advertencia de Asteroide...\n"
     ]
    }
   ],
   "source": [
    "    \"\"\"Advertencia de asteroide \n",
    "    La velodicad del asteroide varia dependiendo de lo cerca que este del sol\n",
    "    y cualquier velocidad  superior a 25 km/s merece una advertencia\n",
    "    \n",
    "    # Añadir el código necesario para crear una variable que guarde la velocidad del asteroide.\n",
    "    # Escribe una expresión de prueba para calcular si necesita una advertencia.\n",
    "    # Agregue las instrucciones que se ejecutarán si la expresión de prueba es true o false.   \n",
    "    \"\"\"\n",
    "    velocidadAsteroide=float(input(\"Cual es la velocidad del asteoride??? \"))\n",
    "    if(velocidadAsteroide>25):\n",
    "        print(\"Advertencia de Asteroide...\")\n",
    "    else:\n",
    "        print(\"El asteroide no significa peligro para la tierra...\")"
   ]
  },
  {
   "cell_type": "code",
   "execution_count": 6,
   "metadata": {},
   "outputs": [
    {
     "name": "stdout",
     "output_type": "stream",
     "text": [
      "                  ~~~~~~~~~~~~~~~~~~~~~~~~~~~~~~~~~~~~~~~~~~~~~~~~~~~~~~~~~~>>\n",
      "Un Asteroide entro a la atmosfera\n",
      "Se formo un rayo de luz que se puede ver desde la tierra\n"
     ]
    }
   ],
   "source": [
    "# Añadir el código necesario para crear una variable que guarde la velocidad del asteroide.\n",
    "# Escribe una expresión de prueba para calcular si necesita una advertencia.\n",
    "# Agregue las instrucciones que se ejecutarán si la expresión de prueba es true o false.\n",
    "\n",
    "velocidadAsteroide = float(input(\"Cual es la velocidad del asteoride??? \"))\n",
    "\n",
    "if(velocidadAsteroide>25):\n",
    "    print(\"Advertencia de Asteroide...\")\n",
    "elif(velocidadAsteroide>=20):\n",
    "    print(\"                  ~~~~~~~~~~~~~~~~~~~~~~~~~~~~~~~~~~~~~~~~~~~~~~~~~~~~~~~~~~>>\")\n",
    "    print(\"Un Asteroide entro a la atmosfera\\nSe formo un rayo de luz que se puede ver desde la tierra\")\n",
    "else:\n",
    "    print(\"El asteroide no significa peligro para la tierra...\")"
   ]
  },
  {
   "cell_type": "code",
   "execution_count": null,
   "metadata": {},
   "outputs": [],
   "source": [
    "# Uso de operadores and y or\n",
    "velocidadAsteroide=float(input(\"Cual es la velocidad del asteoride??? \"))\n",
    "tamanoAsteroide=float(input(\"Cual es el tamaño del asteoride??? \"))\n",
    "if(velocidadAsteroide>25 and tamanoAsteroide<25):\n",
    "    print(\"Advertencia de Asteroide...\\nPor el tamaño del asteroide, lo mas probable es que se queme a medida que entre a la atmosfera\")\n",
    "elif(velocidadAsteroide>25 and tamanoAsteroide>=25):\n",
    "    print(\"Advertencia!!!\\n el asteroide causara un gran daño a la tierra\")\n",
    "elif(velocidadAsteroide>=20):\n",
    "    print(\"                  ~~~~~~~~~~~~~~~~~~~~~~~~~~~~~~~~~~~~~~~~~~~~~~~~~~~~~~~~~~>>\")\n",
    "    print(\"Un Asteroide entro a la atmosfera\\nSe formo un rayo de luz que se puede ver desde la tierra\")\n",
    "else:\n",
    "    print(\"El asteroide no significa peligro para la tierra...\")"
   ]
  }
 ],
 "metadata": {
  "interpreter": {
   "hash": "3bb03df91ec1981933db38e9cd509750fbcc8736096f2f96108c21544a6fd7c7"
  },
  "kernelspec": {
   "display_name": "Python 3.10.2 64-bit",
   "language": "python",
   "name": "python3"
  },
  "language_info": {
   "codemirror_mode": {
    "name": "ipython",
    "version": 3
   },
   "file_extension": ".py",
   "mimetype": "text/x-python",
   "name": "python",
   "nbconvert_exporter": "python",
   "pygments_lexer": "ipython3",
   "version": "3.10.2"
  },
  "orig_nbformat": 4
 },
 "nbformat": 4,
 "nbformat_minor": 2
}

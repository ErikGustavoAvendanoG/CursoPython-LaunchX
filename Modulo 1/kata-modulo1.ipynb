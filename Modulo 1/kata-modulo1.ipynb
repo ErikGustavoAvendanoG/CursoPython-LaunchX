{
 "cells": [
  {
   "cell_type": "code",
   "execution_count": 1,
   "metadata": {},
   "outputs": [
    {
     "name": "stdout",
     "output_type": "stream",
     "text": [
      "Today´s  date is 2022-02-11\n",
      "Today´s  date is 2022-02-11 20:03:56.538022\n",
      " la hora es 20 : 3\n"
     ]
    }
   ],
   "source": [
    "    #\"\"\"Mostramos un mensaje en consola con la fecha de hoy\n",
    "    #\"\"\"\n",
    "from datetime import date\n",
    "from datetime import datetime\n",
    "\n",
    "fecha_hoy=date.today()\n",
    "hoy=datetime.now()\n",
    "print(\"Today's  date is \"+ str(fecha_hoy))\n",
    "print(\"Today's  date is \"+ str(hoy)+\"\\n la hora es \"+str(hoy.hour)+\" : \"+str(hoy.minute))"
   ]
  },
  {
   "cell_type": "code",
   "execution_count": 2,
   "metadata": {},
   "outputs": [
    {
     "name": "stdout",
     "output_type": "stream",
     "text": [
      "11 parsec, is 35.877159999999996 lightYears\n"
     ]
    }
   ],
   "source": [
    "    #\"\"\"Convertidor de unidades\n",
    "    #\"\"\"\n",
    "parsec = 11\n",
    "lightYears = 0\n",
    "# 1 parsec =3.26156 años luz\n",
    "lightYears=parsec*3.26156\n",
    "\n",
    "print(str(parsec) + \" parsec, is \"+ str(lightYears)+\" lightYears\")\n"
   ]
  },
  {
   "cell_type": "code",
   "execution_count": null,
   "metadata": {},
   "outputs": [],
   "source": []
  }
 ],
 "metadata": {
  "interpreter": {
   "hash": "3bb03df91ec1981933db38e9cd509750fbcc8736096f2f96108c21544a6fd7c7"
  },
  "kernelspec": {
   "display_name": "Python 3.10.2 64-bit",
   "language": "python",
   "name": "python3"
  },
  "language_info": {
   "codemirror_mode": {
    "name": "ipython",
    "version": 3
   },
   "file_extension": ".py",
   "mimetype": "text/x-python",
   "name": "python",
   "nbconvert_exporter": "python",
   "pygments_lexer": "ipython3",
   "version": "3.10.2"
  },
  "orig_nbformat": 4
 },
 "nbformat": 4,
 "nbformat_minor": 2
}

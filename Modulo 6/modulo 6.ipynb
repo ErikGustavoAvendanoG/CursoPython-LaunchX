{
 "cells": [
  {
   "cell_type": "markdown",
   "metadata": {},
   "source": [
    "# Introduccion a las listas\n"
   ]
  },
  {
   "cell_type": "code",
   "execution_count": 3,
   "metadata": {},
   "outputs": [
    {
     "name": "stdout",
     "output_type": "stream",
     "text": [
      "El primer planeta es Mercurio\n",
      "El segundo planeta es Venus\n",
      "El tercer planeta es Tierra\n"
     ]
    }
   ],
   "source": [
    "# crear una lista\n",
    "planets = ['Mercurio', 'Venus', 'Tierra', 'Marte', 'Jupiter', 'Saturno', 'Urano', 'Neptuno']\n",
    "\n",
    "#accediendo a las listas por medio de sus indices\n",
    "print(f'El primer planeta es {planets[0]}')\n",
    "print(f'El segundo planeta es {planets[1]}')\n",
    "print(f'El tercer planeta es {planets[2]}')"
   ]
  },
  {
   "cell_type": "code",
   "execution_count": 4,
   "metadata": {},
   "outputs": [
    {
     "name": "stdout",
     "output_type": "stream",
     "text": [
      "Marte tambien es conocido como  Planeta rojo\n"
     ]
    }
   ],
   "source": [
    "#modificando valores de una lista\n",
    "planets[3]=\"Planeta rojo\"\n",
    "print(f'Marte tambien es conocido como  {planets[3]}')"
   ]
  },
  {
   "cell_type": "code",
   "execution_count": 5,
   "metadata": {},
   "outputs": [
    {
     "name": "stdout",
     "output_type": "stream",
     "text": [
      "El numero de planetas en el sistema solar es 8\n"
     ]
    }
   ],
   "source": [
    "# determinar la longitud de una lista\n",
    "numero_de_planetas=len(planets)\n",
    "print(f'El numero de planetas en el sistema solar es {numero_de_planetas}')"
   ]
  },
  {
   "cell_type": "code",
   "execution_count": 10,
   "metadata": {},
   "outputs": [
    {
     "name": "stdout",
     "output_type": "stream",
     "text": [
      "El numero de planetas actualizado es: 9\n",
      "['Mercurio', 'Venus', 'Tierra', 'Planeta rojo', 'Jupiter', 'Saturno', 'Urano', 'Neptuno', 'Pluton']\n",
      "El numero de planetas actualizado es: 7\n",
      "['Mercurio', 'Venus', 'Tierra', 'Planeta rojo', 'Jupiter', 'Saturno', 'Urano']\n"
     ]
    },
    {
     "data": {
      "text/plain": [
       "'Urano'"
      ]
     },
     "execution_count": 10,
     "metadata": {},
     "output_type": "execute_result"
    }
   ],
   "source": [
    "# Agregar valores a una lista\n",
    "planets.append('Pluton')\n",
    "print(f'El numero de planetas actualizado es: {len(planets)}')\n",
    "print(planets)\n",
    "\n",
    "#eliminar valores\n",
    "planets.pop()\n",
    "planets.pop()\n",
    "print(f'El numero de planetas actualizado es: {len(planets)}')\n",
    "print(planets)\n",
    "planets.pop()\n"
   ]
  },
  {
   "cell_type": "code",
   "execution_count": 13,
   "metadata": {},
   "outputs": [
    {
     "name": "stdout",
     "output_type": "stream",
     "text": [
      "La posicion de Planeta rojo dentro de la lista es:4\n"
     ]
    }
   ],
   "source": [
    "# buscar un valor en la lista\n",
    "# index('valor') devuelve el valor de indice del valor a encontrar\n",
    "\n",
    "planet_find='Planeta rojo'\n",
    "print(f'La posicion de {planet_find} dentro de la lista es:{planets.index(planet_find)+1}')"
   ]
  },
  {
   "cell_type": "code",
   "execution_count": 16,
   "metadata": {},
   "outputs": [
    {
     "name": "stdout",
     "output_type": "stream",
     "text": [
      "El peso del autobus en la tierra es 12650 kg\n",
      "En mercurio el peso del autobus es:4781.7 kg\n"
     ]
    }
   ],
   "source": [
    "# gravedad de los planetas\n",
    "gravity_on_planets = [0.378, 0.907, 1, 0.379, 2.36, 0.916, 0.889, 1.12]\n",
    "peso_autobus=12650\n",
    "print(f'El peso del autobus en la tierra es {gravity_on_planets[2]*peso_autobus} kg')\n",
    "print(f'En mercurio el peso del autobus es:{gravity_on_planets[0]*peso_autobus} kg')"
   ]
  },
  {
   "cell_type": "code",
   "execution_count": 18,
   "metadata": {},
   "outputs": [
    {
     "name": "stdout",
     "output_type": "stream",
     "text": [
      "El peso maximo del autobus en los planetas es 29854.0\n",
      "El peso minimo del autobus en los planetas es 4781.7\n"
     ]
    }
   ],
   "source": [
    "# min y max en listas\n",
    "print(f'El peso maximo del autobus en los planetas es {peso_autobus*max(gravity_on_planets)}')\n",
    "print(f'El peso minimo del autobus en los planetas es {peso_autobus*min(gravity_on_planets)}')"
   ]
  },
  {
   "cell_type": "code",
   "execution_count": 21,
   "metadata": {},
   "outputs": [
    {
     "name": "stdout",
     "output_type": "stream",
     "text": [
      "['Mercury', 'Venus']\n",
      "['Mars', 'Jupiter', 'Saturn', 'Uranus', 'Neptune']\n"
     ]
    }
   ],
   "source": [
    "# slice en listas\n",
    "planets = ['Mercury', 'Venus', 'Earth', 'Mars', 'Jupiter', 'Saturn', 'Uranus', 'Neptune']\n",
    "planets_before_earth = planets[0:2]\n",
    "print(planets_before_earth)\n",
    "\n",
    "planets_after_earth = planets[3:]\n",
    "print(planets_after_earth)"
   ]
  },
  {
   "cell_type": "code",
   "execution_count": 22,
   "metadata": {},
   "outputs": [
    {
     "name": "stdout",
     "output_type": "stream",
     "text": [
      "Las lunas regulares de Jupiter son: ['Meltis', 'Adrastea', 'Amalthea', 'Thebe', 'Io', 'Europa', 'Ganimedes', 'Calisto'] \n"
     ]
    }
   ],
   "source": [
    "# Üniendo listas\n",
    "grupo_amaltea=['Meltis','Adrastea','Amalthea','Thebe']\n",
    "lunas_galileanas=['Io','Europa','Ganimedes','Calisto']\n",
    "lunas_de_jupiter=grupo_amaltea+lunas_galileanas\n",
    "print(f'Las lunas regulares de Jupiter son: {lunas_de_jupiter} ')"
   ]
  },
  {
   "cell_type": "code",
   "execution_count": 31,
   "metadata": {},
   "outputs": [
    {
     "name": "stdout",
     "output_type": "stream",
     "text": [
      "Las lunas regulares de Jupiter son: ['Adrastea', 'Amalthea', 'Calisto', 'Europa', 'Ganimedes', 'Io', 'Meltis', 'Thebe']\n"
     ]
    }
   ],
   "source": [
    "# Ordenar listas\n",
    "lunas_de_jupiter.sort()\n",
    "print(f'Las lunas regulares de Jupiter son: {(lunas_de_jupiter)}')"
   ]
  },
  {
   "cell_type": "code",
   "execution_count": null,
   "metadata": {},
   "outputs": [],
   "source": []
  }
 ],
 "metadata": {
  "interpreter": {
   "hash": "3bb03df91ec1981933db38e9cd509750fbcc8736096f2f96108c21544a6fd7c7"
  },
  "kernelspec": {
   "display_name": "Python 3.10.2 64-bit",
   "language": "python",
   "name": "python3"
  },
  "language_info": {
   "codemirror_mode": {
    "name": "ipython",
    "version": 3
   },
   "file_extension": ".py",
   "mimetype": "text/x-python",
   "name": "python",
   "nbconvert_exporter": "python",
   "pygments_lexer": "ipython3",
   "version": "3.10.2"
  },
  "orig_nbformat": 4
 },
 "nbformat": 4,
 "nbformat_minor": 2
}

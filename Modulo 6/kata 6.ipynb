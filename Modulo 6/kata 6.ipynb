{
 "cells": [
  {
   "cell_type": "markdown",
   "metadata": {},
   "source": [
    "# Kata 6"
   ]
  },
  {
   "cell_type": "markdown",
   "metadata": {},
   "source": [
    "## Ejercicio 1: Crear y usar listas\n"
   ]
  },
  {
   "cell_type": "code",
   "execution_count": 3,
   "metadata": {},
   "outputs": [
    {
     "name": "stdout",
     "output_type": "stream",
     "text": [
      "Los planetas en el sistema son: ['Mercurio', 'Venus', 'Tierra', 'Marte', 'Jupiter', 'Saturno', 'Urano', 'Neptuno']\n",
      "Ultimo planeta agregado: Pluton. \n",
      "Numero total de planetas: 9\n"
     ]
    }
   ],
   "source": [
    "# En primer lugar, crea una variable denominada planets. \n",
    "# Agrega los ocho planetas (sin Plutón) a la lista. A continuación, muestra el número de planetas.\n",
    "planets=['Mercurio','Venus','Tierra','Marte','Jupiter','Saturno','Urano','Neptuno']\n",
    "print(f'Los planetas en el sistema son: {planets}')\n",
    "planets.append('Pluton')\n",
    "print(f'Ultimo planeta agregado: {planets[-1]}. \\nNumero total de planetas: {len(planets)}')"
   ]
  },
  {
   "cell_type": "markdown",
   "metadata": {},
   "source": [
    "## Ejercicio 2: Trabajando con datos de una lista."
   ]
  },
  {
   "cell_type": "code",
   "execution_count": 9,
   "metadata": {},
   "outputs": [
    {
     "name": "stdout",
     "output_type": "stream",
     "text": [
      "Planetas mas cercanos al sol, tomando en cuenta el planeta a buscar... ['Mercurio', 'Venus']\n",
      "Planetas mas alejados del sol tomando en cuenta el planeta a buscar... ['Marte', 'Jupiter', 'Saturno', 'Urano', 'Neptuno', 'Pluton']\n"
     ]
    }
   ],
   "source": [
    "#Buscando planeta en la lista\n",
    "planeta_a_encontrar=input(\"Nombre del planeta a buscar (Ingresa la primer letra mayuscula)...\")\n",
    "posicion_p=planets.index(planeta_a_encontrar)\n",
    "if(posicion_p):\n",
    "    print(f'Planetas mas cercanos al sol, tomando en cuenta el planeta a buscar... {planets[:posicion_p]}')\n",
    "    print(f'Planetas mas alejados del sol tomando en cuenta el planeta a buscar... {planets[(posicion_p)+1:]}')\n",
    "else:\n",
    "    print(f'planeta [{planeta_a_encontrar}] no encontrado en la lista...')# NO SALIO ESTO... CHECAR TRY Y CATCH"
   ]
  },
  {
   "cell_type": "code",
   "execution_count": null,
   "metadata": {},
   "outputs": [],
   "source": []
  }
 ],
 "metadata": {
  "interpreter": {
   "hash": "3bb03df91ec1981933db38e9cd509750fbcc8736096f2f96108c21544a6fd7c7"
  },
  "kernelspec": {
   "display_name": "Python 3.10.2 64-bit",
   "language": "python",
   "name": "python3"
  },
  "language_info": {
   "codemirror_mode": {
    "name": "ipython",
    "version": 3
   },
   "file_extension": ".py",
   "mimetype": "text/x-python",
   "name": "python",
   "nbconvert_exporter": "python",
   "pygments_lexer": "ipython3",
   "version": "3.10.2"
  },
  "orig_nbformat": 4
 },
 "nbformat": 4,
 "nbformat_minor": 2
}

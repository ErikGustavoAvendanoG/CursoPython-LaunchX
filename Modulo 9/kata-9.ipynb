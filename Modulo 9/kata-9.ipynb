{
 "cells": [
  {
   "cell_type": "markdown",
   "metadata": {},
   "source": [
    "# Kata 9\n",
    "### Ejercicio 1: Trabajar con argumentos en python"
   ]
  },
  {
   "cell_type": "code",
   "execution_count": 64,
   "metadata": {},
   "outputs": [],
   "source": [
    "def lectura(comb1, comb2, comb3):\n",
    "    informe=(comb1+comb2+comb3)/3\n",
    "    return informe\n",
    "\n",
    "def lectura_ver2(*arg):\n",
    "    print(type(arg))\n",
    "    informe=0\n",
    "    for toma in arg:\n",
    "        #print(toma)\n",
    "        informe=informe+toma\n",
    "    informe=informe/(len(arg))\n",
    "    return informe\n",
    "\n",
    "def lectura_ver3(arg):\n",
    "    informe=0.0\n",
    "    informe=promedio(arg)\n",
    "    return informe\n",
    "\n",
    "def pedir_lecturas():\n",
    "    nota=[]\n",
    "    dato=0\n",
    "    lectura_value=0\n",
    "    while(lectura_value!=-1):\n",
    "        lectura_value=int(input(\"Digite su lectura... ('-1' para cancelar) \"))\n",
    "        if(lectura_value>=0):\n",
    "            nota.append(lectura_value)\n",
    "    if(len(nota)):\n",
    "        dato=lectura_ver3(nota)\n",
    "    return dato\n",
    "        \n",
    "def promedio(arg):\n",
    "    promedio_value=0\n",
    "    for x in arg:\n",
    "        promedio_value=(promedio_value+x)\n",
    "    return promedio_value/len(arg)\n",
    "        \n",
    "def lectura_c_promedio(dato1,dato2,dato3):\n",
    "    lista_datos=[]\n",
    "    lista_datos.append(dato1)\n",
    "    lista_datos.append(dato2)\n",
    "    lista_datos.append(dato3)\n",
    "    print(f'El promedio de lectura es {promedio(lista_datos)}')\n",
    "\n",
    "    \n",
    "    "
   ]
  },
  {
   "cell_type": "code",
   "execution_count": 65,
   "metadata": {},
   "outputs": [
    {
     "name": "stdout",
     "output_type": "stream",
     "text": [
      "45.0\n",
      "<class 'tuple'>\n",
      "13.666666666666666\n",
      "El promedio de lectura es 32.0\n"
     ]
    }
   ],
   "source": [
    "print(lectura(34,45,56))\n",
    "print(lectura_ver2(32,4,5))\n",
    "#print(f'El promedio de las lecturas dadas es: {pedir_lecturas()}')\n",
    "lectura_c_promedio(33,45,18)\n"
   ]
  },
  {
   "cell_type": "markdown",
   "metadata": {},
   "source": [
    "### Ejercicio 2: Trabajo con argumentos"
   ]
  },
  {
   "cell_type": "code",
   "execution_count": 68,
   "metadata": {},
   "outputs": [
    {
     "name": "stdout",
     "output_type": "stream",
     "text": [
      "Destino de vuelo: Luna\n",
      "          Hora de lanzamiento: 36 hrs\n",
      "          Tiempo de vuelo: 12 minutos\n",
      "          cantidad de combustible: 353 l\n",
      "          \n"
     ]
    }
   ],
   "source": [
    "def informe_mision(hora_prelanzamiento,tiempo_vuelo,destino,tanque_int,tanque_ext):\n",
    "    print(f'''Destino de vuelo: {destino}\n",
    "          Hora de lanzamiento: {hora_prelanzamiento} hrs\n",
    "          Tiempo de vuelo: {tiempo_vuelo} minutos\n",
    "          cantidad de combustible: {tanque_int+tanque_ext} l\n",
    "          ''')\n",
    "informe_mision(36,12,'Luna',233,120)"
   ]
  },
  {
   "cell_type": "code",
   "execution_count": 77,
   "metadata": {},
   "outputs": [],
   "source": [
    "def informe_mision(destino,*minutes,**fuel_reservoirs):\n",
    "    print(f'''\n",
    "          Destino de vuelo: {destino}\n",
    "          hora de lanzamiento: {minutes[0]}\n",
    "          tiempo de vuelo: {sum(minutes)}\n",
    "          cantidad de combustible: {sum(fuel_reservoirs.values())}\n",
    "          ''')"
   ]
  },
  {
   "cell_type": "code",
   "execution_count": 78,
   "metadata": {},
   "outputs": [
    {
     "name": "stdout",
     "output_type": "stream",
     "text": [
      "\n",
      "          Destino de vuelo: Marte\n",
      "          hora de lanzamiento: 22\n",
      "          tiempo de vuelo: 35\n",
      "          cantidad de combustible: 577\n",
      "          \n"
     ]
    }
   ],
   "source": [
    "informe_mision('Marte',22,13,interno=233,externo=344)\n",
    "#\"\"\"\" sin el punto value da el siguiente error\n",
    "\n",
    "#---------------------------------------------------------------------------\n",
    "#TypeError                                 Traceback (most recent call last)\n",
    "#c:\\Users\\Administrador\\Documents\\LaunchX\\Modulo 9\\kata-9.ipynb Cell 7' in <module>\n",
    "#----> 1 informe_mision('Marte',22,13,interno=233,externo=344)\n",
    "\n",
    "#c:\\Users\\Administrador\\Documents\\LaunchX\\Modulo 9\\kata-9.ipynb Cell 6' in informe_mision(destino, *minutes, **fuel_reservoirs)\n",
    "#      1 def informe_mision(destino,*minutes,**fuel_reservoirs):\n",
    "#      2     print(f'''\n",
    "#      3           Destino de vuelo: {destino}\n",
    "#      4           hora de lanzamiento: {minutes[0]}\n",
    "#      5           tiempo de vuelo: {sum(minutes)}\n",
    "#----> 6           cantidad de combustible: {sum(fuel_reservoirs)}\n",
    "#      7           ''')\n",
    "#TypeError: unsupported operand type(s) for +: 'int' and 'str'\n",
    "#\"\"\"\n"
   ]
  },
  {
   "cell_type": "code",
   "execution_count": 103,
   "metadata": {},
   "outputs": [],
   "source": [
    "def informe_mision(destino,*minutes,**fuel_reservoirs):\n",
    "    print(f'''\n",
    "          Destino de vuelo: {destino}\n",
    "          hora de lanzamiento: {minutes[0]}\n",
    "          tiempo de vuelo: {sum(minutes)}\n",
    "          cantidad de combustible: {sum(fuel_reservoirs.values())} \n",
    "          {fuel_reservoirs.keys()}: {fuel_reservoirs.values()} gal\n",
    "          ''')\n",
    "    print(len(fuel_reservoirs))\n",
    "    for key,value in fuel_reservoirs.items():\n",
    "          print(f'tanque ({key}): {value} gal ')"
   ]
  },
  {
   "cell_type": "code",
   "execution_count": 104,
   "metadata": {},
   "outputs": [
    {
     "name": "stdout",
     "output_type": "stream",
     "text": [
      "\n",
      "          Destino de vuelo: Marte\n",
      "          hora de lanzamiento: 22\n",
      "          tiempo de vuelo: 35\n",
      "          cantidad de combustible: 577 \n",
      "          dict_keys(['interno', 'externo']): dict_values([233, 344]) gal\n",
      "          \n",
      "2\n",
      "tanque (interno): 233 gal \n",
      "tanque (externo): 344 gal \n"
     ]
    }
   ],
   "source": [
    "informe_mision('Marte',22,13,interno=233,externo=344)"
   ]
  },
  {
   "cell_type": "code",
   "execution_count": null,
   "metadata": {},
   "outputs": [],
   "source": []
  }
 ],
 "metadata": {
  "interpreter": {
   "hash": "3bb03df91ec1981933db38e9cd509750fbcc8736096f2f96108c21544a6fd7c7"
  },
  "kernelspec": {
   "display_name": "Python 3.10.2 64-bit",
   "language": "python",
   "name": "python3"
  },
  "language_info": {
   "codemirror_mode": {
    "name": "ipython",
    "version": 3
   },
   "file_extension": ".py",
   "mimetype": "text/x-python",
   "name": "python",
   "nbconvert_exporter": "python",
   "pygments_lexer": "ipython3",
   "version": "3.10.2"
  },
  "orig_nbformat": 4
 },
 "nbformat": 4,
 "nbformat_minor": 2
}

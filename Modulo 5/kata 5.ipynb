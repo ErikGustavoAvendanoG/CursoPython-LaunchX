{
 "cells": [
  {
   "cell_type": "markdown",
   "metadata": {},
   "source": [
    "# kata 5\n",
    "### ejercicio 1: Operadores Aritmeticos en python"
   ]
  },
  {
   "cell_type": "code",
   "execution_count": 3,
   "metadata": {},
   "outputs": [
    {
     "name": "stdout",
     "output_type": "stream",
     "text": [
      "La distancia entre los planetas es 148028885.32 millas\n"
     ]
    }
   ],
   "source": [
    "d_planeta1=int(input(\"Ingresa la distancia del primer planeta: \"))\n",
    "d_planeta2=int(input(\"Ingresa la distancia del segundo planeta: \"))\n",
    "\n",
    "distancia_entre_p=(abs(d_planeta1-d_planeta2))*0.621\n",
    "print(f'La distancia entre los planetas es {distancia_entre_p:.2f} millas')\n"
   ]
  },
  {
   "cell_type": "markdown",
   "metadata": {},
   "source": [
    "# Ejercicio 2 :\n",
    "### Crear una aplicación para trabajar con números y entrada de usuario"
   ]
  },
  {
   "cell_type": "code",
   "execution_count": 8,
   "metadata": {},
   "outputs": [
    {
     "name": "stdout",
     "output_type": "stream",
     "text": [
      "La distancia de Mercurio a Venus = 31236300.0 millas\n",
      "La distancia de Mercurio a Tierra = 56945700.0 millas\n",
      "La distancia de Mercurio a Marte = 105570000.0 millas\n",
      "La distancia de Mercurio a Júpiter = 447554700.0 millas\n",
      "La distancia de Mercurio a Saturno = 854247600.0 millas\n",
      "La distancia de Mercurio a Urano = 1747866600.0 millas\n",
      "La distancia de Mercurio a Neptuno = 2755501200.0 millas\n",
      "La distancia de Venus a Mercurio = 31236300.0 millas\n",
      "La distancia de Venus a Tierra = 25709400.0 millas\n",
      "La distancia de Venus a Marte = 74333700.0 millas\n",
      "La distancia de Venus a Júpiter = 416318400.0 millas\n",
      "La distancia de Venus a Saturno = 823011300.0 millas\n",
      "La distancia de Venus a Urano = 1716630300.0 millas\n",
      "La distancia de Venus a Neptuno = 2724264900.0 millas\n",
      "La distancia de Tierra a Mercurio = 56945700.0 millas\n",
      "La distancia de Tierra a Venus = 25709400.0 millas\n",
      "La distancia de Tierra a Marte = 48624300.0 millas\n",
      "La distancia de Tierra a Júpiter = 390609000.0 millas\n",
      "La distancia de Tierra a Saturno = 797301900.0 millas\n",
      "La distancia de Tierra a Urano = 1690920900.0 millas\n",
      "La distancia de Tierra a Neptuno = 2698555500.0 millas\n",
      "La distancia de Marte a Mercurio = 105570000.0 millas\n",
      "La distancia de Marte a Venus = 74333700.0 millas\n",
      "La distancia de Marte a Tierra = 48624300.0 millas\n",
      "La distancia de Marte a Júpiter = 341984700.0 millas\n",
      "La distancia de Marte a Saturno = 748677600.0 millas\n",
      "La distancia de Marte a Urano = 1642296600.0 millas\n",
      "La distancia de Marte a Neptuno = 2649931200.0 millas\n",
      "La distancia de Júpiter a Mercurio = 447554700.0 millas\n",
      "La distancia de Júpiter a Venus = 416318400.0 millas\n",
      "La distancia de Júpiter a Tierra = 390609000.0 millas\n",
      "La distancia de Júpiter a Marte = 341984700.0 millas\n",
      "La distancia de Júpiter a Saturno = 406692900.0 millas\n",
      "La distancia de Júpiter a Urano = 1300311900.0 millas\n",
      "La distancia de Júpiter a Neptuno = 2307946500.0 millas\n",
      "La distancia de Saturno a Mercurio = 854247600.0 millas\n",
      "La distancia de Saturno a Venus = 823011300.0 millas\n",
      "La distancia de Saturno a Tierra = 797301900.0 millas\n",
      "La distancia de Saturno a Marte = 748677600.0 millas\n",
      "La distancia de Saturno a Júpiter = 406692900.0 millas\n",
      "La distancia de Saturno a Urano = 893619000.0 millas\n",
      "La distancia de Saturno a Neptuno = 1901253600.0 millas\n",
      "La distancia de Urano a Mercurio = 1747866600.0 millas\n",
      "La distancia de Urano a Venus = 1716630300.0 millas\n",
      "La distancia de Urano a Tierra = 1690920900.0 millas\n",
      "La distancia de Urano a Marte = 1642296600.0 millas\n",
      "La distancia de Urano a Júpiter = 1300311900.0 millas\n",
      "La distancia de Urano a Saturno = 893619000.0 millas\n",
      "La distancia de Urano a Neptuno = 1007634600.0 millas\n",
      "La distancia de Neptuno a Mercurio = 2755501200.0 millas\n",
      "La distancia de Neptuno a Venus = 2724264900.0 millas\n",
      "La distancia de Neptuno a Tierra = 2698555500.0 millas\n",
      "La distancia de Neptuno a Marte = 2649931200.0 millas\n",
      "La distancia de Neptuno a Júpiter = 2307946500.0 millas\n",
      "La distancia de Neptuno a Saturno = 1901253600.0 millas\n",
      "La distancia de Neptuno a Urano = 1007634600.0 millas\n"
     ]
    }
   ],
   "source": [
    "datos={'Mercurio':57900000,'Venus':108200000,'Tierra':149600000,'Marte':227900000,'Júpiter':778600000,'Saturno':1433500000,'Urano':2872500000,'Neptuno':4495100000}\n",
    "distancia=0\n",
    "\n",
    "for planeta in datos:\n",
    "    #print (planeta,' : ',datos[planeta])\n",
    "    for planeta_comp in datos:\n",
    "        distancia=abs(datos[planeta]-datos[planeta_comp])\n",
    "        if(distancia!=0):\n",
    "            print(f'La distancia de {planeta} a {planeta_comp} = {distancia*0.621} millas')\n",
    "        \n",
    "    \n",
    "\n"
   ]
  },
  {
   "cell_type": "code",
   "execution_count": null,
   "metadata": {},
   "outputs": [],
   "source": []
  }
 ],
 "metadata": {
  "interpreter": {
   "hash": "a3e177f8b01f54355b65d20545545faf75aa9a6aacc8e249da855de7c28b1f7f"
  },
  "kernelspec": {
   "display_name": "Python 3.10.2 ('env': venv)",
   "language": "python",
   "name": "python3"
  },
  "language_info": {
   "codemirror_mode": {
    "name": "ipython",
    "version": 3
   },
   "file_extension": ".py",
   "mimetype": "text/x-python",
   "name": "python",
   "nbconvert_exporter": "python",
   "pygments_lexer": "ipython3",
   "version": "3.10.2"
  },
  "orig_nbformat": 4
 },
 "nbformat": 4,
 "nbformat_minor": 2
}
